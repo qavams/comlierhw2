{
  "cells": [
    {
      "cell_type": "markdown",
      "metadata": {
        "id": "_JH7Z00hb2nW"
      },
      "source": [
        "# تمرین سلیمانی 9821160021 بسته RE و  SLY"
      ]
    },
    {
      "cell_type": "code",
      "execution_count": null,
      "metadata": {},
      "outputs": [],
      "source": [
        "برای بسته RE پس از مشخص کردن توکن  ها نوع آنها را نام گذاری و به ترتیب چاپ میکنیم "
      ]
    },
    {
      "cell_type": "code",
      "execution_count": 22,
      "metadata": {
        "colab": {
          "base_uri": "https://localhost:8080/"
        },
        "id": "UQKNh9H5-X_-",
        "outputId": "7de50abc-0b89-46a8-e118-a89f470ebbb0"
      },
      "outputs": [
        {
          "name": "stdout",
          "output_type": "stream",
          "text": [
            "['if', '(', 'a', '<', '5', ')', '{', '#', 'c']\n"
          ]
        }
      ],
      "source": [
        "import re\n",
        "\n",
        "#ابتدا پترن جهت توکنایز کردن را مشخص میکنیم\n",
        "rx = r\"\\w+(?:'\\w+)?|[^\\w\\s]\"\n",
        "my list : \n",
        "سپس کد را از فایل میخوانیم \n",
        "file = opne(\"a.txt\")\n",
        "for lines in file : \n",
        "    line = lines\n",
        "    print(re.findall(rx, lines))\n",
        "\n",
        "\n",
        "\n",
        "\n"
      ]
    },
    {
      "cell_type": "markdown",
      "metadata": {},
      "source": [
        "برای بسته SLY پس از مشخص کردن توکن  ها نوع آنها را نام گذاری و به ترتیب چاپ میکنیم \n",
        "چیزی که انجام شده مشابه همان است که در کلاس توضیح داده شده است"
      ]
    },
    {
      "cell_type": "code",
      "execution_count": 31,
      "metadata": {
        "colab": {
          "base_uri": "https://localhost:8080/"
        },
        "id": "WOrsNQWsE3Ou",
        "outputId": "a294e171-3817-4a9a-9267-cf0e7e9bff16"
      },
      "outputs": [
        {
          "name": "stdout",
          "output_type": "stream",
          "text": [
            "Token(type='ID', value='x', lineno=3, index=12)\n",
            "Token(type='ASSIGN', value='=', lineno=3, index=14)\n",
            "Token(type='NUMBER', value=0, lineno=3, index=16)\n",
            "Token(type=';', value=';', lineno=3, index=17)\n",
            "Token(type='WHILE', value='while', lineno=4, index=19)\n",
            "Token(type='(', value='(', lineno=4, index=25)\n",
            "Token(type='ID', value='x', lineno=4, index=26)\n",
            "Token(type='LT', value='<', lineno=4, index=28)\n",
            "Token(type='NUMBER', value=10, lineno=4, index=30)\n",
            "Token(type=')', value=')', lineno=4, index=32)\n",
            "Token(type='{', value='{', lineno=4, index=34)\n",
            "Token(type='PRINT', value='print', lineno=5, index=40)\n",
            "Token(type='ID', value='x', lineno=5, index=46)\n",
            "Line 5: Bad character ':'\n",
            "Token(type='ID', value='x', lineno=6, index=53)\n",
            "Token(type='ASSIGN', value='=', lineno=6, index=55)\n",
            "Token(type='ID', value='x', lineno=6, index=57)\n",
            "Token(type='PLUS', value='+', lineno=6, index=59)\n",
            "Token(type='NUMBER', value=1, lineno=6, index=61)\n",
            "Token(type=';', value=';', lineno=6, index=62)\n",
            "Token(type='}', value='}', lineno=7, index=64)\n"
          ]
        }
      ],
      "source": [
        "# calclex.py\n",
        "\n",
        "from sly import Lexer\n",
        "\n",
        "class CalcLexer(Lexer):\n",
        "    # Set of token names.   This is always required\n",
        "    tokens = { NUMBER, ID, WHILE, IF, ELSE, PRINT,\n",
        "               PLUS, MINUS, TIMES, DIVIDE, ASSIGN,\n",
        "               EQ, LT, LE, GT, GE, NE }\n",
        "\n",
        "\n",
        "    literals = { '(', ')', '{', '}', ';' }\n",
        "\n",
        "    # String containing ignored characters\n",
        "    ignore = ' \\t'\n",
        "\n",
        "    # Regular expression rules for tokens\n",
        "    PLUS    = r'\\+'\n",
        "    MINUS   = r'-'\n",
        "    TIMES   = r'\\*'\n",
        "    DIVIDE  = r'/'\n",
        "    EQ      = r'=='\n",
        "    ASSIGN  = r'='\n",
        "    LE      = r'<='\n",
        "    LT      = r'<'\n",
        "    GE      = r'>='\n",
        "    GT      = r'>'\n",
        "    NE      = r'!='\n",
        "\n",
        "    @_(r'\\d+')\n",
        "    def NUMBER(self, t):\n",
        "        t.value = int(t.value)\n",
        "        return t\n",
        "\n",
        "    # Identifiers and keywords\n",
        "    ID = r'[a-zA-Z_][a-zA-Z0-9_]*'\n",
        "    ID['if'] = IF\n",
        "    ID['else'] = ELSE\n",
        "    ID['while'] = WHILE\n",
        "    ID['print'] = PRINT\n",
        "\n",
        "    ignore_comment = r'\\#.*'\n",
        "\n",
        "    # Line number tracking\n",
        "    @_(r'\\n+')\n",
        "    def ignore_newline(self, t):\n",
        "        self.lineno += t.value.count('\\n')\n",
        "\n",
        "    def error(self, t):\n",
        "        print('Line %d: Bad character %r' % (self.lineno, t.value[0]))\n",
        "        self.index += 1\n",
        "\n",
        "if __name__ == '__main__':\n",
        "    data = '''\n",
        "# Counting\n",
        "x = 0;\n",
        "while (x < 10) {\n",
        "    print x:\n",
        "    x = x + 1;\n",
        "}\n",
        "'''\n",
        "    lexer = CalcLexer()\n",
        "    for tok in lexer.tokenize(data):\n",
        "        print(tok)"
      ]
    }
  ],
  "metadata": {
    "colab": {
      "name": "Untitled0.ipynb",
      "provenance": []
    },
    "kernelspec": {
      "display_name": "Python 3",
      "name": "python3"
    },
    "language_info": {
      "name": "python"
    }
  },
  "nbformat": 4,
  "nbformat_minor": 0
}
